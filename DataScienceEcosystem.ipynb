{
 "cells": [
  {
   "cell_type": "markdown",
   "id": "db49c9a5-74d4-4fe1-9d0d-1dc6790a3ec6",
   "metadata": {
    "tags": []
   },
   "source": [
    "# Data Science Tools and Ecosystem"
   ]
  },
  {
   "cell_type": "markdown",
   "id": "1d276302-eeea-442b-ae4c-2c592739c8b9",
   "metadata": {},
   "source": [
    "# **introduction**\n",
    " In this notebook, Data Science Tools and Ecosystem are summarized.\n"
   ]
  },
  {
   "cell_type": "markdown",
   "id": "72cb4846-ed18-4c28-a1b3-234ef91c4731",
   "metadata": {},
   "source": [
    "## list of data science languages\n",
    "\n",
    "1. Python\n",
    "2. R\n",
    "3. SQL\n",
    "4. Julia\n",
    "5. sas\n",
    "6. MATLAB\n",
    "7. Scala\n",
    "8. Java\n",
    "9.  C++\n",
    "10. JavaScript"
   ]
  },
  {
   "cell_type": "markdown",
   "id": "330df6a3-18a7-41fd-b439-231f9db12576",
   "metadata": {},
   "source": [
    "## list of data science libraries\n",
    "\n",
    "Some of the commonly used libraries used by Data Scientists include:\n",
    "Python Libraries:\n",
    "1. NumPy\n",
    "2. pandas\n",
    "3. Matplotlib\n",
    "4. Seaborn\n",
    "\n",
    "R Libraries:\n",
    "1. ggplot2\n",
    "2. dplyr\n",
    "3. tidyr\n",
    "4. caret"
   ]
  },
  {
   "cell_type": "markdown",
   "id": "358673f6-10f7-470f-9b47-cb305ba166ab",
   "metadata": {
    "tags": []
   },
   "source": [
    "## Data Science Tools\n",
    "| Data Science Tools  |\n",
    "|---------------------|\n",
    "| Jupyter Notebook    |\n",
    "| RStudio             |\n",
    "| Apache Zeppelin     |\n",
    "\n"
   ]
  },
  {
   "cell_type": "markdown",
   "id": "69ba9ef9-3a51-484d-add9-b0659d455af4",
   "metadata": {
    "tags": []
   },
   "source": [
    "## introducing arithmetic expression examples\n",
    "\n",
    "### Below are a few examples of evaluating arithmetic expressions in Python.\n",
    "\n",
    "\n",
    "Below are a few examples of evaluating arithmetic expressions in Python:\n",
    "\n",
    "python\n",
    "### Addition\n",
    "result = 3 + 5\n",
    "print(\"3 + 5 =\", result)\n",
    "\n",
    "### Subtraction\n",
    "result = 10 - 4\n",
    "print(\"10 - 4 =\", result)\n",
    "\n",
    "### Multiplication\n",
    "result = 7 * 6\n",
    "print(\"7 * 6 =\", result)\n",
    "\n",
    "### Division\n",
    "result = 8 / 2\n",
    "print(\"8 / 2 =\", result)\n",
    "\n",
    "### Exponentiation\n",
    "result = 2 ** 3\n",
    "print(\"2 ** 3 =\", result)\n",
    "\n",
    "### Modulus\n",
    "result = 10 % 3\n",
    "print(\"10 % 3 =\", result)\n",
    "\n",
    "### Floor Division\n",
    "result = 9 // 4\n",
    "print(\"9 // 4 =\", result)"
   ]
  },
  {
   "cell_type": "code",
   "execution_count": 11,
   "id": "9c20345b-e56b-4540-a1d4-09878425e9ec",
   "metadata": {
    "tags": []
   },
   "outputs": [
    {
     "name": "stdout",
     "output_type": "stream",
     "text": [
      "(3 * 4) + 5 = 17\n"
     ]
    }
   ],
   "source": [
    "# This is a simple arithmetic expression to multiply then add integers.\n",
    "result = (3 * 4) + 5\n",
    "print(\"(3 * 4) + 5 =\", result)\n"
   ]
  },
  {
   "cell_type": "code",
   "execution_count": 12,
   "id": "57339ecd-56bb-48a0-9542-88fae2636406",
   "metadata": {
    "tags": []
   },
   "outputs": [
    {
     "name": "stdout",
     "output_type": "stream",
     "text": [
      "120 minutes is equal to 2.0 hours.\n"
     ]
    }
   ],
   "source": [
    "# Define a variable for minutes\n",
    "minutes = 120\n",
    "# Convert minutes to hours\n",
    "hours = minutes / 60\n",
    "print(minutes, \"minutes is equal to\", hours, \"hours.\")\n"
   ]
  },
  {
   "cell_type": "markdown",
   "id": "fc33f8ee-4e11-4617-9126-8e47da4f87ce",
   "metadata": {},
   "source": [
    "## Objectives:\n",
    "\n",
    "- List popular languages for Data Science.\n",
    "- Explore common data science libraries.\n",
    "- Understand basic arithmetic operations in Python.\n"
   ]
  },
  {
   "cell_type": "markdown",
   "id": "53957ca0-5f52-45ac-afc6-51b99800be44",
   "metadata": {},
   "source": [
    "## Author\n",
    "\n",
    "mohammed saaqib\n"
   ]
  }
 ],
 "metadata": {
  "kernelspec": {
   "display_name": "Python",
   "language": "python",
   "name": "conda-env-python-py"
  },
  "language_info": {
   "codemirror_mode": {
    "name": "ipython",
    "version": 3
   },
   "file_extension": ".py",
   "mimetype": "text/x-python",
   "name": "python",
   "nbconvert_exporter": "python",
   "pygments_lexer": "ipython3",
   "version": "3.7.12"
  }
 },
 "nbformat": 4,
 "nbformat_minor": 5
}
